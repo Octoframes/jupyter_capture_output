{
 "cells": [
  {
   "cell_type": "code",
   "execution_count": 1,
   "metadata": {},
   "outputs": [
    {
     "name": "stdout",
     "output_type": "stream",
     "text": [
      "Jupyter Capture Output v0.0.4\n"
     ]
    }
   ],
   "source": [
    "import jupyter_capture_output"
   ]
  },
  {
   "cell_type": "code",
   "execution_count": 2,
   "metadata": {},
   "outputs": [
    {
     "data": {
      "text/html": [
       "<img src=\"https://raw.githubusercontent.com/scikit-image/scikit-image/main/skimage/data/chelsea.png\">"
      ],
      "text/plain": [
       "<IPython.core.display.HTML object>"
      ]
     },
     "metadata": {},
     "output_type": "display_data"
    }
   ],
   "source": [
    "%%capture_img --path \"cat.png\" \n",
    "from IPython.core.display import HTML\n",
    "from IPython.display import display\n",
    "display(HTML('<img src=\"https://raw.githubusercontent.com/scikit-image/scikit-image/main/skimage/data/chelsea.png\">')) #why not this?"
   ]
  }
 ],
 "metadata": {
  "kernelspec": {
   "display_name": "Python 3.8.13 ('cap_out_env': venv)",
   "language": "python",
   "name": "python3"
  },
  "language_info": {
   "codemirror_mode": {
    "name": "ipython",
    "version": 3
   },
   "file_extension": ".py",
   "mimetype": "text/x-python",
   "name": "python",
   "nbconvert_exporter": "python",
   "pygments_lexer": "ipython3",
   "version": "3.8.13"
  },
  "vscode": {
   "interpreter": {
    "hash": "5b81e0bea4c168085e23f3c1db51bac52ae26b0fe8a79e527ef1ec09770d2bb2"
   }
  }
 },
 "nbformat": 4,
 "nbformat_minor": 4
}
