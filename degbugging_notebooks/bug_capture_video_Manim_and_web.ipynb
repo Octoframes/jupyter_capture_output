{
 "cells": [
  {
   "cell_type": "code",
   "execution_count": 1,
   "id": "63fa3f08-7226-4006-b2e5-46b502c09452",
   "metadata": {},
   "outputs": [],
   "source": [
    "from IPython import get_ipython\n",
    "from IPython.core import magic_arguments\n",
    "from IPython.core.magic import Magics, cell_magic, magics_class\n",
    "from IPython.display import display\n",
    "from IPython.utils.capture import capture_output\n",
    "from pprint import pprint\n",
    "from pathlib import Path"
   ]
  },
  {
   "cell_type": "code",
   "execution_count": 2,
   "id": "bc8c9994-11cb-485f-9b63-ea0322c665f2",
   "metadata": {},
   "outputs": [],
   "source": [
    "@magics_class\n",
    "class CaptureMagic(Magics):\n",
    "    @magic_arguments.magic_arguments()\n",
    "    @magic_arguments.argument(\n",
    "        \"--path\",\n",
    "        \"-p\",\n",
    "        default=None,\n",
    "        help=(\n",
    "            \"The path where the video will be saved to. When there is more then one video, multiple paths have to be defined\"\n",
    "        ),\n",
    "    )\n",
    "    @cell_magic\n",
    "    def capture_video(self, line, cell):\n",
    "        args = magic_arguments.parse_argstring(CaptureMagic.capture_video, line)\n",
    "        paths = args.path.strip('\"').split(\" \")\n",
    "        with capture_output(stdout=False, stderr=False, display=True) as result:\n",
    "            self.shell.run_cell(cell)\n",
    "        for output in result.outputs:\n",
    "            display(output) # only disabled for debugging\n",
    "            global data # for debugging \n",
    "            data = output.data\n",
    "\n",
    "            pprint(data) # for debugging \n",
    "\n",
    "            print(\"#####\")\n",
    "            if \"text/html\" in data: # this is not nice, is there any better way to access IPython.core.display.Video object ?\n",
    "                path = paths.pop(0)\n",
    "                if not path:\n",
    "                    raise ValueError(\"Too few paths given!\")\n",
    "                video_object = data[\"text/html\"]\n",
    "                split_string = video_object.split('\"')\n",
    "                video_url = split_string[1]\n",
    "                print(video_url) # for debugging \n",
    "                print(path) # for debugging \n",
    "\n",
    "                dest = Path(path)\n",
    "                src = Path(video_url)\n",
    "                dest.write_bytes(src.read_bytes())\n",
    "                \n",
    "\n",
    "                \n",
    "ipy = get_ipython()\n",
    "ipy.register_magics(CaptureMagic)"
   ]
  },
  {
   "cell_type": "markdown",
   "id": "c5709e8f",
   "metadata": {},
   "source": [
    "# Manim Example"
   ]
  },
  {
   "cell_type": "code",
   "execution_count": 3,
   "id": "94d8e770",
   "metadata": {},
   "outputs": [
    {
     "data": {
      "text/html": [
       "<pre style=\"white-space:pre;overflow-x:auto;line-height:normal;font-family:Menlo,'DejaVu Sans Mono',consolas,'Courier New',monospace\">Manim Community <span style=\"color: #008000; text-decoration-color: #008000\">v0.17.2</span>\n",
       "\n",
       "</pre>\n"
      ],
      "text/plain": [
       "Manim Community \u001b[32mv0.\u001b[0m\u001b[32m17.2\u001b[0m\n",
       "\n"
      ]
     },
     "metadata": {},
     "output_type": "display_data"
    }
   ],
   "source": [
    "from manim import *\n",
    "param= \"-v WARNING  --progress_bar None  -r  500,200  --disable_caching Example\"\n",
    "config.media_embed = False"
   ]
  },
  {
   "cell_type": "code",
   "execution_count": 4,
   "id": "17244445",
   "metadata": {},
   "outputs": [
    {
     "data": {
      "text/html": [
       "<video src=\"media/jupyter/Example@2023-03-12@17-12-33.mp4\" controls autoplay loop style=\"max-width: 60%;\"  >\n",
       "      Your browser does not support the <code>video</code> element.\n",
       "    </video>"
      ],
      "text/plain": [
       "<IPython.core.display.Video object>"
      ]
     },
     "metadata": {},
     "output_type": "display_data"
    },
    {
     "name": "stdout",
     "output_type": "stream",
     "text": [
      "{'text/html': '<video src=\"media/jupyter/Example@2023-03-12@17-12-33.mp4\" '\n",
      "              'controls autoplay loop style=\"max-width: 60%;\"  >\\n'\n",
      "              '      Your browser does not support the <code>video</code> '\n",
      "              'element.\\n'\n",
      "              '    </video>',\n",
      " 'text/plain': '<IPython.core.display.Video object>'}\n",
      "#####\n",
      "media/jupyter/Example@2023-03-12@17-12-33.mp4\n",
      "fromManim.mp4\n"
     ]
    }
   ],
   "source": [
    "%%capture_video -p \"fromManim.mp4\"\n",
    "%%manim $param\n",
    "class Example(Scene):\n",
    "    def construct(self):\n",
    "        dot= Dot(color= YELLOW, radius=0.5)\n",
    "        self.add(dot)\n",
    "        self.wait() # works!"
   ]
  },
  {
   "cell_type": "code",
   "execution_count": 5,
   "id": "b61b64f3",
   "metadata": {},
   "outputs": [],
   "source": [
    "config.media_embed = True"
   ]
  },
  {
   "cell_type": "code",
   "execution_count": 6,
   "id": "7edf2c59",
   "metadata": {},
   "outputs": [
    {
     "data": {
      "text/html": [
       "<video controls autoplay loop style=\"max-width: 60%;\"  >\n",
       " <source src=\"data:video/mp4;base64,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\" type=\"video/mp4\">\n",
       " Your browser does not support the video tag.\n",
       " </video>"
      ],
      "text/plain": [
       "<IPython.core.display.Video object>"
      ]
     },
     "metadata": {},
     "output_type": "display_data"
    },
    {
     "name": "stdout",
     "output_type": "stream",
     "text": [
      "{'text/html': '<video controls autoplay loop style=\"max-width: 60%;\"  >\\n'\n",
      "              ' <source '\n",
      "              'src=\"data:video/mp4;base64,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\" '\n",
      "              'type=\"video/mp4\">\\n'\n",
      "              ' Your browser does not support the video tag.\\n'\n",
      "              ' </video>',\n",
      " 'text/plain': '<IPython.core.display.Video object>'}\n",
      "#####\n",
      "max-width: 60%;\n",
      "fromManimEmbedded.mp4\n"
     ]
    },
    {
     "ename": "FileNotFoundError",
     "evalue": "[Errno 2] No such file or directory: 'max-width: 60%;'",
     "output_type": "error",
     "traceback": [
      "\u001b[0;31m---------------------------------------------------------------------------\u001b[0m",
      "\u001b[0;31mFileNotFoundError\u001b[0m                         Traceback (most recent call last)",
      "Cell \u001b[0;32mIn[6], line 1\u001b[0m\n\u001b[0;32m----> 1\u001b[0m get_ipython()\u001b[39m.\u001b[39;49mrun_cell_magic(\u001b[39m'\u001b[39;49m\u001b[39mcapture_video\u001b[39;49m\u001b[39m'\u001b[39;49m, \u001b[39m'\u001b[39;49m\u001b[39m-p \u001b[39;49m\u001b[39m\"\u001b[39;49m\u001b[39mfromManimEmbedded.mp4\u001b[39;49m\u001b[39m\"\u001b[39;49m\u001b[39m'\u001b[39;49m, \u001b[39m'\u001b[39;49m\u001b[39m%%\u001b[39;49;00m\u001b[39mmanim $param\u001b[39;49m\u001b[39m\\n\u001b[39;49;00m\u001b[39mclass Example(Scene):\u001b[39;49m\u001b[39m\\n\u001b[39;49;00m\u001b[39m    def construct(self):\u001b[39;49m\u001b[39m\\n\u001b[39;49;00m\u001b[39m        dot= Dot(color= YELLOW, radius=0.5)\u001b[39;49m\u001b[39m\\n\u001b[39;49;00m\u001b[39m        self.add(dot)\u001b[39;49m\u001b[39m\\n\u001b[39;49;00m\u001b[39m        self.wait() # does not work!\u001b[39;49m\u001b[39m\\n\u001b[39;49;00m\u001b[39m'\u001b[39;49m)\n",
      "File \u001b[0;32m~/opt/anaconda3/envs/napari-env2/lib/python3.9/site-packages/IPython/core/interactiveshell.py:2417\u001b[0m, in \u001b[0;36mInteractiveShell.run_cell_magic\u001b[0;34m(self, magic_name, line, cell)\u001b[0m\n\u001b[1;32m   2415\u001b[0m \u001b[39mwith\u001b[39;00m \u001b[39mself\u001b[39m\u001b[39m.\u001b[39mbuiltin_trap:\n\u001b[1;32m   2416\u001b[0m     args \u001b[39m=\u001b[39m (magic_arg_s, cell)\n\u001b[0;32m-> 2417\u001b[0m     result \u001b[39m=\u001b[39m fn(\u001b[39m*\u001b[39;49margs, \u001b[39m*\u001b[39;49m\u001b[39m*\u001b[39;49mkwargs)\n\u001b[1;32m   2418\u001b[0m \u001b[39mreturn\u001b[39;00m result\n",
      "Cell \u001b[0;32mIn[2], line 38\u001b[0m, in \u001b[0;36mCaptureMagic.capture_video\u001b[0;34m(self, line, cell)\u001b[0m\n\u001b[1;32m     36\u001b[0m dest \u001b[39m=\u001b[39m Path(path)\n\u001b[1;32m     37\u001b[0m src \u001b[39m=\u001b[39m Path(video_url)\n\u001b[0;32m---> 38\u001b[0m dest\u001b[39m.\u001b[39mwrite_bytes(src\u001b[39m.\u001b[39;49mread_bytes())\n",
      "File \u001b[0;32m~/opt/anaconda3/envs/napari-env2/lib/python3.9/pathlib.py:1259\u001b[0m, in \u001b[0;36mPath.read_bytes\u001b[0;34m(self)\u001b[0m\n\u001b[1;32m   1255\u001b[0m \u001b[39mdef\u001b[39;00m \u001b[39mread_bytes\u001b[39m(\u001b[39mself\u001b[39m):\n\u001b[1;32m   1256\u001b[0m     \u001b[39m\"\"\"\u001b[39;00m\n\u001b[1;32m   1257\u001b[0m \u001b[39m    Open the file in bytes mode, read it, and close the file.\u001b[39;00m\n\u001b[1;32m   1258\u001b[0m \u001b[39m    \"\"\"\u001b[39;00m\n\u001b[0;32m-> 1259\u001b[0m     \u001b[39mwith\u001b[39;00m \u001b[39mself\u001b[39;49m\u001b[39m.\u001b[39;49mopen(mode\u001b[39m=\u001b[39;49m\u001b[39m'\u001b[39;49m\u001b[39mrb\u001b[39;49m\u001b[39m'\u001b[39;49m) \u001b[39mas\u001b[39;00m f:\n\u001b[1;32m   1260\u001b[0m         \u001b[39mreturn\u001b[39;00m f\u001b[39m.\u001b[39mread()\n",
      "File \u001b[0;32m~/opt/anaconda3/envs/napari-env2/lib/python3.9/pathlib.py:1252\u001b[0m, in \u001b[0;36mPath.open\u001b[0;34m(self, mode, buffering, encoding, errors, newline)\u001b[0m\n\u001b[1;32m   1246\u001b[0m \u001b[39mdef\u001b[39;00m \u001b[39mopen\u001b[39m(\u001b[39mself\u001b[39m, mode\u001b[39m=\u001b[39m\u001b[39m'\u001b[39m\u001b[39mr\u001b[39m\u001b[39m'\u001b[39m, buffering\u001b[39m=\u001b[39m\u001b[39m-\u001b[39m\u001b[39m1\u001b[39m, encoding\u001b[39m=\u001b[39m\u001b[39mNone\u001b[39;00m,\n\u001b[1;32m   1247\u001b[0m          errors\u001b[39m=\u001b[39m\u001b[39mNone\u001b[39;00m, newline\u001b[39m=\u001b[39m\u001b[39mNone\u001b[39;00m):\n\u001b[1;32m   1248\u001b[0m     \u001b[39m\"\"\"\u001b[39;00m\n\u001b[1;32m   1249\u001b[0m \u001b[39m    Open the file pointed by this path and return a file object, as\u001b[39;00m\n\u001b[1;32m   1250\u001b[0m \u001b[39m    the built-in open() function does.\u001b[39;00m\n\u001b[1;32m   1251\u001b[0m \u001b[39m    \"\"\"\u001b[39;00m\n\u001b[0;32m-> 1252\u001b[0m     \u001b[39mreturn\u001b[39;00m io\u001b[39m.\u001b[39;49mopen(\u001b[39mself\u001b[39;49m, mode, buffering, encoding, errors, newline,\n\u001b[1;32m   1253\u001b[0m                    opener\u001b[39m=\u001b[39;49m\u001b[39mself\u001b[39;49m\u001b[39m.\u001b[39;49m_opener)\n",
      "File \u001b[0;32m~/opt/anaconda3/envs/napari-env2/lib/python3.9/pathlib.py:1120\u001b[0m, in \u001b[0;36mPath._opener\u001b[0;34m(self, name, flags, mode)\u001b[0m\n\u001b[1;32m   1118\u001b[0m \u001b[39mdef\u001b[39;00m \u001b[39m_opener\u001b[39m(\u001b[39mself\u001b[39m, name, flags, mode\u001b[39m=\u001b[39m\u001b[39m0o666\u001b[39m):\n\u001b[1;32m   1119\u001b[0m     \u001b[39m# A stub for the opener argument to built-in open()\u001b[39;00m\n\u001b[0;32m-> 1120\u001b[0m     \u001b[39mreturn\u001b[39;00m \u001b[39mself\u001b[39;49m\u001b[39m.\u001b[39;49m_accessor\u001b[39m.\u001b[39;49mopen(\u001b[39mself\u001b[39;49m, flags, mode)\n",
      "\u001b[0;31mFileNotFoundError\u001b[0m: [Errno 2] No such file or directory: 'max-width: 60%;'"
     ]
    }
   ],
   "source": [
    "%%capture_video -p \"fromManimEmbedded.mp4\"\n",
    "%%manim $param\n",
    "class Example(Scene):\n",
    "    def construct(self):\n",
    "        dot= Dot(color= YELLOW, radius=0.5)\n",
    "        self.add(dot)\n",
    "        self.wait() # does not work!"
   ]
  },
  {
   "cell_type": "markdown",
   "id": "5e5bc864",
   "metadata": {},
   "source": [
    "# Web Example"
   ]
  },
  {
   "cell_type": "code",
   "execution_count": 7,
   "id": "960d42bc",
   "metadata": {},
   "outputs": [
    {
     "data": {
      "text/html": [
       "<video src=\"https://github.com/kolibril13/jupyter_video_presentation/blob/master/001.mp4?raw=true\" controls  width=\"300\" >\n",
       "      Your browser does not support the <code>video</code> element.\n",
       "    </video>"
      ],
      "text/plain": [
       "<IPython.core.display.Video object>"
      ]
     },
     "metadata": {},
     "output_type": "display_data"
    },
    {
     "name": "stdout",
     "output_type": "stream",
     "text": [
      "{'text/html': '<video '\n",
      "              'src=\"https://github.com/kolibril13/jupyter_video_presentation/blob/master/001.mp4?raw=true\" '\n",
      "              'controls  width=\"300\" >\\n'\n",
      "              '      Your browser does not support the <code>video</code> '\n",
      "              'element.\\n'\n",
      "              '    </video>',\n",
      " 'text/plain': '<IPython.core.display.Video object>'}\n",
      "#####\n",
      "https://github.com/kolibril13/jupyter_video_presentation/blob/master/001.mp4?raw=true\n",
      "fromWeb.mp4\n"
     ]
    },
    {
     "ename": "FileNotFoundError",
     "evalue": "[Errno 2] No such file or directory: 'https:/github.com/kolibril13/jupyter_video_presentation/blob/master/001.mp4?raw=true'",
     "output_type": "error",
     "traceback": [
      "\u001b[0;31m---------------------------------------------------------------------------\u001b[0m",
      "\u001b[0;31mFileNotFoundError\u001b[0m                         Traceback (most recent call last)",
      "Cell \u001b[0;32mIn[7], line 1\u001b[0m\n\u001b[0;32m----> 1\u001b[0m get_ipython()\u001b[39m.\u001b[39;49mrun_cell_magic(\u001b[39m'\u001b[39;49m\u001b[39mcapture_video\u001b[39;49m\u001b[39m'\u001b[39;49m, \u001b[39m'\u001b[39;49m\u001b[39m-p \u001b[39;49m\u001b[39m\"\u001b[39;49m\u001b[39mfromWeb.mp4\u001b[39;49m\u001b[39m\"\u001b[39;49m\u001b[39m'\u001b[39;49m, \u001b[39m\"\u001b[39;49m\u001b[39mfrom IPython.display import Video\u001b[39;49m\u001b[39m\\n\u001b[39;49;00m\u001b[39mVideo(\u001b[39;49m\u001b[39m'\u001b[39;49m\u001b[39mhttps://github.com/kolibril13/jupyter_video_presentation/blob/master/001.mp4?raw=true\u001b[39;49m\u001b[39m'\u001b[39;49m\u001b[39m ,width=300) # does not work\u001b[39;49m\u001b[39m\\n\u001b[39;49;00m\u001b[39m\"\u001b[39;49m)\n",
      "File \u001b[0;32m~/opt/anaconda3/envs/napari-env2/lib/python3.9/site-packages/IPython/core/interactiveshell.py:2417\u001b[0m, in \u001b[0;36mInteractiveShell.run_cell_magic\u001b[0;34m(self, magic_name, line, cell)\u001b[0m\n\u001b[1;32m   2415\u001b[0m \u001b[39mwith\u001b[39;00m \u001b[39mself\u001b[39m\u001b[39m.\u001b[39mbuiltin_trap:\n\u001b[1;32m   2416\u001b[0m     args \u001b[39m=\u001b[39m (magic_arg_s, cell)\n\u001b[0;32m-> 2417\u001b[0m     result \u001b[39m=\u001b[39m fn(\u001b[39m*\u001b[39;49margs, \u001b[39m*\u001b[39;49m\u001b[39m*\u001b[39;49mkwargs)\n\u001b[1;32m   2418\u001b[0m \u001b[39mreturn\u001b[39;00m result\n",
      "Cell \u001b[0;32mIn[2], line 38\u001b[0m, in \u001b[0;36mCaptureMagic.capture_video\u001b[0;34m(self, line, cell)\u001b[0m\n\u001b[1;32m     36\u001b[0m dest \u001b[39m=\u001b[39m Path(path)\n\u001b[1;32m     37\u001b[0m src \u001b[39m=\u001b[39m Path(video_url)\n\u001b[0;32m---> 38\u001b[0m dest\u001b[39m.\u001b[39mwrite_bytes(src\u001b[39m.\u001b[39;49mread_bytes())\n",
      "File \u001b[0;32m~/opt/anaconda3/envs/napari-env2/lib/python3.9/pathlib.py:1259\u001b[0m, in \u001b[0;36mPath.read_bytes\u001b[0;34m(self)\u001b[0m\n\u001b[1;32m   1255\u001b[0m \u001b[39mdef\u001b[39;00m \u001b[39mread_bytes\u001b[39m(\u001b[39mself\u001b[39m):\n\u001b[1;32m   1256\u001b[0m     \u001b[39m\"\"\"\u001b[39;00m\n\u001b[1;32m   1257\u001b[0m \u001b[39m    Open the file in bytes mode, read it, and close the file.\u001b[39;00m\n\u001b[1;32m   1258\u001b[0m \u001b[39m    \"\"\"\u001b[39;00m\n\u001b[0;32m-> 1259\u001b[0m     \u001b[39mwith\u001b[39;00m \u001b[39mself\u001b[39;49m\u001b[39m.\u001b[39;49mopen(mode\u001b[39m=\u001b[39;49m\u001b[39m'\u001b[39;49m\u001b[39mrb\u001b[39;49m\u001b[39m'\u001b[39;49m) \u001b[39mas\u001b[39;00m f:\n\u001b[1;32m   1260\u001b[0m         \u001b[39mreturn\u001b[39;00m f\u001b[39m.\u001b[39mread()\n",
      "File \u001b[0;32m~/opt/anaconda3/envs/napari-env2/lib/python3.9/pathlib.py:1252\u001b[0m, in \u001b[0;36mPath.open\u001b[0;34m(self, mode, buffering, encoding, errors, newline)\u001b[0m\n\u001b[1;32m   1246\u001b[0m \u001b[39mdef\u001b[39;00m \u001b[39mopen\u001b[39m(\u001b[39mself\u001b[39m, mode\u001b[39m=\u001b[39m\u001b[39m'\u001b[39m\u001b[39mr\u001b[39m\u001b[39m'\u001b[39m, buffering\u001b[39m=\u001b[39m\u001b[39m-\u001b[39m\u001b[39m1\u001b[39m, encoding\u001b[39m=\u001b[39m\u001b[39mNone\u001b[39;00m,\n\u001b[1;32m   1247\u001b[0m          errors\u001b[39m=\u001b[39m\u001b[39mNone\u001b[39;00m, newline\u001b[39m=\u001b[39m\u001b[39mNone\u001b[39;00m):\n\u001b[1;32m   1248\u001b[0m     \u001b[39m\"\"\"\u001b[39;00m\n\u001b[1;32m   1249\u001b[0m \u001b[39m    Open the file pointed by this path and return a file object, as\u001b[39;00m\n\u001b[1;32m   1250\u001b[0m \u001b[39m    the built-in open() function does.\u001b[39;00m\n\u001b[1;32m   1251\u001b[0m \u001b[39m    \"\"\"\u001b[39;00m\n\u001b[0;32m-> 1252\u001b[0m     \u001b[39mreturn\u001b[39;00m io\u001b[39m.\u001b[39;49mopen(\u001b[39mself\u001b[39;49m, mode, buffering, encoding, errors, newline,\n\u001b[1;32m   1253\u001b[0m                    opener\u001b[39m=\u001b[39;49m\u001b[39mself\u001b[39;49m\u001b[39m.\u001b[39;49m_opener)\n",
      "File \u001b[0;32m~/opt/anaconda3/envs/napari-env2/lib/python3.9/pathlib.py:1120\u001b[0m, in \u001b[0;36mPath._opener\u001b[0;34m(self, name, flags, mode)\u001b[0m\n\u001b[1;32m   1118\u001b[0m \u001b[39mdef\u001b[39;00m \u001b[39m_opener\u001b[39m(\u001b[39mself\u001b[39m, name, flags, mode\u001b[39m=\u001b[39m\u001b[39m0o666\u001b[39m):\n\u001b[1;32m   1119\u001b[0m     \u001b[39m# A stub for the opener argument to built-in open()\u001b[39;00m\n\u001b[0;32m-> 1120\u001b[0m     \u001b[39mreturn\u001b[39;00m \u001b[39mself\u001b[39;49m\u001b[39m.\u001b[39;49m_accessor\u001b[39m.\u001b[39;49mopen(\u001b[39mself\u001b[39;49m, flags, mode)\n",
      "\u001b[0;31mFileNotFoundError\u001b[0m: [Errno 2] No such file or directory: 'https:/github.com/kolibril13/jupyter_video_presentation/blob/master/001.mp4?raw=true'"
     ]
    }
   ],
   "source": [
    "%%capture_video -p \"fromWeb.mp4\"\n",
    "from IPython.display import Video\n",
    "Video('https://github.com/kolibril13/jupyter_video_presentation/blob/master/001.mp4?raw=true' ,width=300) # does not work"
   ]
  },
  {
   "cell_type": "code",
   "execution_count": 8,
   "id": "26a575d1",
   "metadata": {},
   "outputs": [],
   "source": [
    "from pathlib import Path\n",
    "Path(\"fromManim.mp4\").unlink()\n",
    "\n",
    "try:\n",
    "    Path(\"fromManimEmbedded.mp4\").unlink()\n",
    "except:\n",
    "    pass\n",
    "\n",
    "\n",
    "\n",
    "try:\n",
    "    Path(\"fromWeb.mp4\").unlink()\n",
    "except:\n",
    "    pass\n",
    "\n"
   ]
  }
 ],
 "metadata": {
  "kernelspec": {
   "display_name": "Python 3.8.13 ('capture_env_test': venv)",
   "language": "python",
   "name": "python3"
  },
  "language_info": {
   "codemirror_mode": {
    "name": "ipython",
    "version": 3
   },
   "file_extension": ".py",
   "mimetype": "text/x-python",
   "name": "python",
   "nbconvert_exporter": "python",
   "pygments_lexer": "ipython3",
   "version": "3.9.15"
  },
  "vscode": {
   "interpreter": {
    "hash": "42910b72101666c77058521bc59283192d5eded8c20da0c6201c60273bd43d58"
   }
  }
 },
 "nbformat": 4,
 "nbformat_minor": 5
}
