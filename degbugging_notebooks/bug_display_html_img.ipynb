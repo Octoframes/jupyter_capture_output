{
 "cells": [
  {
   "cell_type": "code",
   "execution_count": 1,
   "metadata": {},
   "outputs": [
    {
     "name": "stdout",
     "output_type": "stream",
     "text": [
      "Jupyter Capture Output v0.0.9\n"
     ]
    }
   ],
   "source": [
    "import jupyter_capture_output"
   ]
  },
  {
   "cell_type": "code",
   "execution_count": 2,
   "metadata": {},
   "outputs": [
    {
     "name": "stdout",
     "output_type": "stream",
     "text": [
      "Output saved by creating file at cat.png.\n"
     ]
    },
    {
     "data": {
      "text/html": [
       "<img src=\"https://raw.githubusercontent.com/scikit-image/scikit-image/main/skimage/data/chelsea.png\">"
      ],
      "text/plain": [
       "<IPython.core.display.HTML object>"
      ]
     },
     "metadata": {},
     "output_type": "display_data"
    }
   ],
   "source": [
    "%%capture_img --path \"cat.png\" \n",
    "from IPython.core.display import HTML\n",
    "from IPython.display import display\n",
    "display(HTML('<img src=\"https://raw.githubusercontent.com/scikit-image/scikit-image/main/skimage/data/chelsea.png\">')) #why not this?"
   ]
  },
  {
   "cell_type": "code",
   "execution_count": null,
   "metadata": {},
   "outputs": [],
   "source": []
  }
 ],
 "metadata": {
  "kernelspec": {
   "display_name": "Python 3.10.8 ('.venv': poetry)",
   "language": "python",
   "name": "python3"
  },
  "language_info": {
   "codemirror_mode": {
    "name": "ipython",
    "version": 3
   },
   "file_extension": ".py",
   "mimetype": "text/x-python",
   "name": "python",
   "nbconvert_exporter": "python",
   "pygments_lexer": "ipython3",
   "version": "3.11.2"
  },
  "vscode": {
   "interpreter": {
    "hash": "c0ecd88a104f88ac7ba030faad3447e6f9cb751f1846846a28271507b5fa719a"
   }
  }
 },
 "nbformat": 4,
 "nbformat_minor": 4
}
