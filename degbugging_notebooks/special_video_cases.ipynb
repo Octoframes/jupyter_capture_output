{
 "cells": [
  {
   "cell_type": "code",
   "execution_count": null,
   "id": "5c4d82bd",
   "metadata": {},
   "outputs": [],
   "source": [
    "from IPython.display import Video"
   ]
  },
  {
   "cell_type": "code",
   "execution_count": null,
   "id": "6924675f",
   "metadata": {},
   "outputs": [],
   "source": [
    "# ✅✅✅\n",
    "Video(\"../assets/dog_with_water.mp4\",embed=True,width=300)"
   ]
  },
  {
   "cell_type": "markdown",
   "id": "26a575d1",
   "metadata": {},
   "source": [
    "![matplotlib_dog.png](attachment:matplotlib_dog.png)\n",
    "<video src=\"not_embedded.mp4\" controls title=\"Title\"></video>\n"
   ]
  },
  {
   "attachments": {},
   "cell_type": "markdown",
   "id": "bf823e60",
   "metadata": {},
   "source": []
  }
 ],
 "metadata": {
  "kernelspec": {
   "display_name": "Python 3.8.13 ('capture_env_test': venv)",
   "language": "python",
   "name": "python3"
  },
  "language_info": {
   "codemirror_mode": {
    "name": "ipython",
    "version": 3
   },
   "file_extension": ".py",
   "mimetype": "text/x-python",
   "name": "python",
   "nbconvert_exporter": "python",
   "pygments_lexer": "ipython3",
   "version": "3.11.4"
  },
  "vscode": {
   "interpreter": {
    "hash": "42910b72101666c77058521bc59283192d5eded8c20da0c6201c60273bd43d58"
   }
  }
 },
 "nbformat": 4,
 "nbformat_minor": 5
}
