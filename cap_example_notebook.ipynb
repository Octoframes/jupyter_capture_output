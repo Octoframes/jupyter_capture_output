{
 "cells": [
  {
   "cell_type": "code",
   "execution_count": null,
   "metadata": {},
   "outputs": [],
   "source": [
    "import jupyter_capture_output\n",
    "%load_ext autoreload\n",
    "%autoreload 2"
   ]
  },
  {
   "cell_type": "code",
   "execution_count": null,
   "metadata": {},
   "outputs": [],
   "source": [
    "%%capture_text --path \"cap/greeting.txt\"\n",
    "print(\"Hello World\")"
   ]
  },
  {
   "cell_type": "code",
   "execution_count": null,
   "metadata": {},
   "outputs": [],
   "source": [
    "%%capture_code --path \"cap/cell_content.py\"\n",
    "print(\"Hello World\")"
   ]
  },
  {
   "cell_type": "code",
   "execution_count": null,
   "metadata": {},
   "outputs": [],
   "source": [
    "%%capture_video -p \"cap/video_no_embedding.mp4\"\n",
    "from IPython.display import Video\n",
    "# 🎥🎥🎥\n",
    "Video(\"assets/dog_with_water.mp4\", embed=False, width=300)\n"
   ]
  },
  {
   "cell_type": "code",
   "execution_count": null,
   "metadata": {},
   "outputs": [],
   "source": [
    "%%capture_video -p \"cap/video_with_embedding.mp4\"\n",
    "# 🎥🎥🎥\n",
    "Video(\"assets/dog_with_water.mp4\",embed=True,width=300)"
   ]
  },
  {
   "cell_type": "code",
   "execution_count": null,
   "metadata": {
    "tags": []
   },
   "outputs": [],
   "source": [
    "%%capture_img --path \"cap/dog.png\"\n",
    "import matplotlib.pyplot as plt\n",
    "dog = plt.imread('assets/cute_dog.jpg')\n",
    "plt.imshow(dog)\n",
    "plt.axis(\"off\")\n",
    "plt.show()"
   ]
  },
  {
   "cell_type": "code",
   "execution_count": null,
   "metadata": {},
   "outputs": [],
   "source": [
    "%%capture_img  --path \"cap/dog_compressed.jpg\" --compression 50\n",
    "plt.imshow(dog)\n",
    "plt.axis(\"off\")\n",
    "plt.show()"
   ]
  },
  {
   "cell_type": "code",
   "execution_count": null,
   "metadata": {},
   "outputs": [],
   "source": [
    "%%capture_img --path \"cap/dog_color.png cap/dog_gray.png\"\n",
    "plt.imshow(dog)\n",
    "plt.axis(\"off\")\n",
    "plt.show()\n",
    "plt.imshow(dog[:,:,2] ,cmap=\"gray\")\n",
    "plt.axis(\"off\")\n",
    "plt.show()"
   ]
  },
  {
   "cell_type": "code",
   "execution_count": null,
   "metadata": {},
   "outputs": [],
   "source": [
    "from pathlib import Path\n",
    "Path(\"cap/greeting.txt\").unlink()\n",
    "Path(\"cap/cell_content.py\").unlink()\n",
    "Path(\"cap/video_no_embedding.mp4\").unlink()\n",
    "Path(\"cap/video_with_embedding.mp4\").unlink()\n",
    "Path(\"cap/dog.png\").unlink()\n",
    "Path(\"cap/dog_compressed.jpg\").unlink()\n",
    "Path(\"cap/dog_color.png\").unlink()\n",
    "Path(\"cap/dog_gray.png\").unlink()"
   ]
  },
  {
   "cell_type": "markdown",
   "metadata": {},
   "source": [
    "Credits to royalty free stock content:  \n",
    "Dog Image by <a href=\"https://pixabay.com/users/birgl-6508325/?utm_source=link-attribution&amp;utm_medium=referral&amp;utm_campaign=image&amp;utm_content=4224638\">birgl</a> from <a href=\"https://pixabay.com/?utm_source=link-attribution&amp;utm_medium=referral&amp;utm_campaign=image&amp;utm_content=4224638\">Pixabay</a>  \n",
    "Dog Video by RODNAE from [Pexels](https://www.pexels.com/video/a-dog-drinking-water-from-a-dog-bowl-7516661)"
   ]
  },
  {
   "cell_type": "code",
   "execution_count": null,
   "metadata": {},
   "outputs": [],
   "source": [
    "%%capture_text --path \"../log/greeting.txt\"\n",
    "# This is the parent relative to the cwd\n",
    "print(\"Hello World\")"
   ]
  },
  {
   "cell_type": "code",
   "execution_count": null,
   "metadata": {},
   "outputs": [],
   "source": [
    "%%capture_text --path \"/Users/jan-hendrik/Downloads/testfolder/Greetings.txt\"\n",
    "print(\"Hello World\")"
   ]
  },
  {
   "cell_type": "code",
   "execution_count": null,
   "metadata": {},
   "outputs": [],
   "source": [
    "%%capture_text --path {Path.home() / \"Downloads\" / \"Hello.txt\"}\n",
    "print(\"Hello World\")"
   ]
  },
  {
   "cell_type": "code",
   "execution_count": null,
   "metadata": {},
   "outputs": [],
   "source": [
    "# In two lines:\n",
    "my_path = Path.home() / \"Downloads\" / \"Hello2.txt\""
   ]
  },
  {
   "cell_type": "code",
   "execution_count": null,
   "metadata": {},
   "outputs": [],
   "source": [
    "%%capture_text --path $my_path\n",
    "print(\"Hello World\")"
   ]
  }
 ],
 "metadata": {
  "kernelspec": {
   "display_name": "Python 3.10.8 ('.venv': poetry)",
   "language": "python",
   "name": "python3"
  },
  "language_info": {
   "codemirror_mode": {
    "name": "ipython",
    "version": 3
   },
   "file_extension": ".py",
   "mimetype": "text/x-python",
   "name": "python",
   "nbconvert_exporter": "python",
   "pygments_lexer": "ipython3",
   "version": "3.11.3"
  },
  "vscode": {
   "interpreter": {
    "hash": "c0ecd88a104f88ac7ba030faad3447e6f9cb751f1846846a28271507b5fa719a"
   }
  }
 },
 "nbformat": 4,
 "nbformat_minor": 4
}
