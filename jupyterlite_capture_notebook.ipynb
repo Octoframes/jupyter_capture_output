{
  "cells": [
    {
      "cell_type": "markdown",
      "id": "762dc804-72e1-4960-a764-03d044378c63",
      "metadata": {
        "tags": []
      },
      "source": [
        "# JupyterLite - jupyter-capture-output Demo\n",
        "Repo: https://github.com/kolibril13/jupyter-capture-output  \n",
        "Note: Capturing Videos does not yet work in JupyterLite, but works with local installation"
      ]
    },
    {
      "cell_type": "code",
      "execution_count": null,
      "id": "874b7fad-a338-4365-b5b5-1765442e5661",
      "metadata": {
        "trusted": true
      },
      "outputs": [],
      "source": [
        "%pip install jupyter-capture-output"
      ]
    },
    {
      "cell_type": "code",
      "execution_count": null,
      "id": "90ad5854",
      "metadata": {},
      "outputs": [],
      "source": [
        "import jupyter_capture_output"
      ]
    },
    {
      "cell_type": "code",
      "execution_count": null,
      "id": "aab6696f-9f70-4d20-8d01-bcacea109766",
      "metadata": {
        "trusted": true
      },
      "outputs": [],
      "source": [
        "%%capture_text --path \"greeting.txt\"\n",
        "print(\"Hello World\")"
      ]
    },
    {
      "cell_type": "code",
      "execution_count": null,
      "id": "ec1a7870-fdb8-400c-9823-033b9107d932",
      "metadata": {
        "trusted": true
      },
      "outputs": [],
      "source": [
        "%%capture_img --path \"dog.png\"\n",
        "import matplotlib.pyplot as plt\n",
        "dog = plt.imread('assets/cute_dog.jpg')\n",
        "plt.imshow(dog)\n",
        "plt.axis(\"off\")\n",
        "plt.show()"
      ]
    },
    {
      "cell_type": "code",
      "execution_count": null,
      "id": "de56dace",
      "metadata": {},
      "outputs": [],
      "source": [
        "%%capture_code --path \"cell_content.py\"\n",
        "print(\"Hello World\")"
      ]
    },
    {
      "cell_type": "code",
      "execution_count": null,
      "id": "b95d4a77",
      "metadata": {},
      "outputs": [],
      "source": [
        "from pathlib import Path\n",
        "Path(\"greeting.txt\").unlink() # for deleting\n",
        "Path(\"cell_content.py\").unlink()\n",
        "Path(\"dog.png\").unlink() "
      ]
    }
  ],
  "metadata": {
    "kernelspec": {
      "display_name": "Python 3.10.8 ('.venv': poetry)",
      "language": "python",
      "name": "python3"
    },
    "language_info": {
      "codemirror_mode": {
        "name": "ipython",
        "version": 3
      },
      "file_extension": ".py",
      "mimetype": "text/x-python",
      "name": "python",
      "nbconvert_exporter": "python",
      "pygments_lexer": "ipython3",
      "version": "3.11.2"
    },
    "vscode": {
      "interpreter": {
        "hash": "c0ecd88a104f88ac7ba030faad3447e6f9cb751f1846846a28271507b5fa719a"
      }
    }
  },
  "nbformat": 4,
  "nbformat_minor": 5
}
